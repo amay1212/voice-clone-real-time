{
  "nbformat": 4,
  "nbformat_minor": 0,
  "metadata": {
    "colab": {
      "provenance": [],
      "machine_shape": "hm",
      "gpuType": "A100",
      "authorship_tag": "ABX9TyPHnqfKOGvMTEnRP2KesNxx",
      "include_colab_link": true
    },
    "kernelspec": {
      "name": "python3",
      "display_name": "Python 3"
    },
    "language_info": {
      "name": "python"
    },
    "accelerator": "GPU"
  },
  "cells": [
    {
      "cell_type": "markdown",
      "metadata": {
        "id": "view-in-github",
        "colab_type": "text"
      },
      "source": [
        "<a href=\"https://colab.research.google.com/github/amay1212/voice-clone-real-time/blob/main/coqui_tts.ipynb\" target=\"_parent\"><img src=\"https://colab.research.google.com/assets/colab-badge.svg\" alt=\"Open In Colab\"/></a>"
      ]
    },
    {
      "cell_type": "code",
      "execution_count": null,
      "metadata": {
        "colab": {
          "base_uri": "https://localhost:8080/"
        },
        "id": "dIMcZEFBIA17",
        "outputId": "7eec6b91-1980-40f3-ca6c-4ffaa11804f1"
      },
      "outputs": [
        {
          "output_type": "stream",
          "name": "stdout",
          "text": [
            "Cloning into 'TTS'...\n",
            "remote: Enumerating objects: 32844, done.\u001b[K\n",
            "remote: Total 32844 (delta 0), reused 0 (delta 0), pack-reused 32844\u001b[K\n",
            "Receiving objects: 100% (32844/32844), 166.21 MiB | 22.16 MiB/s, done.\n",
            "Resolving deltas: 100% (23820/23820), done.\n"
          ]
        }
      ],
      "source": [
        "!git clone https://github.com/coqui-ai/TTS"
      ]
    },
    {
      "cell_type": "code",
      "source": [
        "%cd TTS"
      ],
      "metadata": {
        "colab": {
          "base_uri": "https://localhost:8080/"
        },
        "id": "AxWdsJMqJlId",
        "outputId": "d3d8da4a-665a-4fcc-e1e1-4b0cb2df2e13"
      },
      "execution_count": null,
      "outputs": [
        {
          "output_type": "stream",
          "name": "stdout",
          "text": [
            "/content/TTS\n"
          ]
        }
      ]
    },
    {
      "cell_type": "code",
      "source": [
        "!ls -l"
      ],
      "metadata": {
        "colab": {
          "base_uri": "https://localhost:8080/"
        },
        "id": "XE2661bgJp5O",
        "outputId": "09b6114a-93bb-4aa9-96a6-8dbe1a301d0d"
      },
      "execution_count": null,
      "outputs": [
        {
          "output_type": "stream",
          "name": "stdout",
          "text": [
            "total 8\n",
            "drwxr-xr-x  1 root root 4096 Jul  3 13:21 sample_data\n",
            "drwxr-xr-x 12 root root 4096 Jul  4 09:44 TTS\n"
          ]
        }
      ]
    },
    {
      "cell_type": "code",
      "source": [
        "!ls -l"
      ],
      "metadata": {
        "colab": {
          "base_uri": "https://localhost:8080/"
        },
        "id": "ul_qGZT6KCU1",
        "outputId": "f1c7cad8-8217-4a3a-bf65-c0b0eee06f0e"
      },
      "execution_count": 8,
      "outputs": [
        {
          "output_type": "stream",
          "name": "stdout",
          "text": [
            "total 152\n",
            "-rw-r--r--  1 root root   589 Jul  4 09:44 CITATION.cff\n",
            "-rw-r--r--  1 root root  5488 Jul  4 09:44 CODE_OF_CONDUCT.md\n",
            "-rw-r--r--  1 root root  4106 Jul  4 09:44 CODE_OWNERS.rst\n",
            "-rw-r--r--  1 root root  6231 Jul  4 09:44 CONTRIBUTING.md\n",
            "-rw-r--r--  1 root root   578 Jul  4 09:44 Dockerfile\n",
            "drwxr-xr-x  2 root root  4096 Jul  4 09:44 dockerfiles\n",
            "drwxr-xr-x  3 root root  4096 Jul  4 09:44 docs\n",
            "-rw-r--r--  1 root root  1892 Jul  4 09:44 hubconf.py\n",
            "drwxr-xr-x  2 root root  4096 Jul  4 09:44 images\n",
            "-rw-r--r--  1 root root 16726 Jul  4 09:44 LICENSE.txt\n",
            "-rw-r--r--  1 root root  2246 Jul  4 09:44 Makefile\n",
            "-rw-r--r--  1 root root   362 Jul  4 09:44 MANIFEST.in\n",
            "drwxr-xr-x  3 root root  4096 Jul  4 09:44 notebooks\n",
            "-rw-r--r--  1 root root   282 Jul  4 09:44 pyproject.toml\n",
            "-rw-r--r--  1 root root 17429 Jul  4 09:44 README.md\n",
            "drwxr-xr-x  9 root root  4096 Jul  4 09:44 recipes\n",
            "-rw-r--r--  1 root root    42 Jul  4 09:44 requirements.dev.txt\n",
            "-rw-r--r--  1 root root   154 Jul  4 09:44 requirements.ja.txt\n",
            "-rw-r--r--  1 root root    12 Jul  4 09:44 requirements.notebooks.txt\n",
            "-rw-r--r--  1 root root   986 Jul  4 09:44 requirements.txt\n",
            "-rwxr-xr-x  1 root root   177 Jul  4 09:44 run_bash_tests.sh\n",
            "drwxr-xr-x  2 root root  4096 Jul  4 09:44 scripts\n",
            "-rw-r--r--  1 root root   104 Jul  4 09:44 setup.cfg\n",
            "-rw-r--r--  1 root root  5356 Jul  4 09:44 setup.py\n",
            "drwxr-xr-x 15 root root  4096 Jul  4 09:44 tests\n",
            "drwxr-xr-x 13 root root  4096 Jul  4 10:52 TTS\n"
          ]
        }
      ]
    },
    {
      "cell_type": "code",
      "source": [
        "!pip install trainer"
      ],
      "metadata": {
        "colab": {
          "base_uri": "https://localhost:8080/"
        },
        "id": "KzY2cblKKLvn",
        "outputId": "15ae8726-c012-4a4d-8515-5fa67a535b96"
      },
      "execution_count": 9,
      "outputs": [
        {
          "output_type": "stream",
          "name": "stdout",
          "text": [
            "Requirement already satisfied: trainer in /usr/local/lib/python3.10/dist-packages (0.0.36)\n",
            "Requirement already satisfied: torch>=1.7 in /usr/local/lib/python3.10/dist-packages (from trainer) (2.3.0+cu121)\n",
            "Requirement already satisfied: coqpit in /usr/local/lib/python3.10/dist-packages (from trainer) (0.0.17)\n",
            "Requirement already satisfied: psutil in /usr/local/lib/python3.10/dist-packages (from trainer) (5.9.5)\n",
            "Requirement already satisfied: fsspec in /usr/local/lib/python3.10/dist-packages (from trainer) (2023.6.0)\n",
            "Requirement already satisfied: tensorboard in /usr/local/lib/python3.10/dist-packages (from trainer) (2.15.2)\n",
            "Requirement already satisfied: soundfile in /usr/local/lib/python3.10/dist-packages (from trainer) (0.12.1)\n",
            "Requirement already satisfied: filelock in /usr/local/lib/python3.10/dist-packages (from torch>=1.7->trainer) (3.15.4)\n",
            "Requirement already satisfied: typing-extensions>=4.8.0 in /usr/local/lib/python3.10/dist-packages (from torch>=1.7->trainer) (4.12.2)\n",
            "Requirement already satisfied: sympy in /usr/local/lib/python3.10/dist-packages (from torch>=1.7->trainer) (1.12.1)\n",
            "Requirement already satisfied: networkx in /usr/local/lib/python3.10/dist-packages (from torch>=1.7->trainer) (2.8.8)\n",
            "Requirement already satisfied: jinja2 in /usr/local/lib/python3.10/dist-packages (from torch>=1.7->trainer) (3.1.4)\n",
            "Requirement already satisfied: nvidia-cuda-nvrtc-cu12==12.1.105 in /usr/local/lib/python3.10/dist-packages (from torch>=1.7->trainer) (12.1.105)\n",
            "Requirement already satisfied: nvidia-cuda-runtime-cu12==12.1.105 in /usr/local/lib/python3.10/dist-packages (from torch>=1.7->trainer) (12.1.105)\n",
            "Requirement already satisfied: nvidia-cuda-cupti-cu12==12.1.105 in /usr/local/lib/python3.10/dist-packages (from torch>=1.7->trainer) (12.1.105)\n",
            "Requirement already satisfied: nvidia-cudnn-cu12==8.9.2.26 in /usr/local/lib/python3.10/dist-packages (from torch>=1.7->trainer) (8.9.2.26)\n",
            "Requirement already satisfied: nvidia-cublas-cu12==12.1.3.1 in /usr/local/lib/python3.10/dist-packages (from torch>=1.7->trainer) (12.1.3.1)\n",
            "Requirement already satisfied: nvidia-cufft-cu12==11.0.2.54 in /usr/local/lib/python3.10/dist-packages (from torch>=1.7->trainer) (11.0.2.54)\n",
            "Requirement already satisfied: nvidia-curand-cu12==10.3.2.106 in /usr/local/lib/python3.10/dist-packages (from torch>=1.7->trainer) (10.3.2.106)\n",
            "Requirement already satisfied: nvidia-cusolver-cu12==11.4.5.107 in /usr/local/lib/python3.10/dist-packages (from torch>=1.7->trainer) (11.4.5.107)\n",
            "Requirement already satisfied: nvidia-cusparse-cu12==12.1.0.106 in /usr/local/lib/python3.10/dist-packages (from torch>=1.7->trainer) (12.1.0.106)\n",
            "Requirement already satisfied: nvidia-nccl-cu12==2.20.5 in /usr/local/lib/python3.10/dist-packages (from torch>=1.7->trainer) (2.20.5)\n",
            "Requirement already satisfied: nvidia-nvtx-cu12==12.1.105 in /usr/local/lib/python3.10/dist-packages (from torch>=1.7->trainer) (12.1.105)\n",
            "Requirement already satisfied: triton==2.3.0 in /usr/local/lib/python3.10/dist-packages (from torch>=1.7->trainer) (2.3.0)\n",
            "Requirement already satisfied: nvidia-nvjitlink-cu12 in /usr/local/lib/python3.10/dist-packages (from nvidia-cusolver-cu12==11.4.5.107->torch>=1.7->trainer) (12.5.82)\n",
            "Requirement already satisfied: cffi>=1.0 in /usr/local/lib/python3.10/dist-packages (from soundfile->trainer) (1.16.0)\n",
            "Requirement already satisfied: absl-py>=0.4 in /usr/local/lib/python3.10/dist-packages (from tensorboard->trainer) (1.4.0)\n",
            "Requirement already satisfied: grpcio>=1.48.2 in /usr/local/lib/python3.10/dist-packages (from tensorboard->trainer) (1.64.1)\n",
            "Requirement already satisfied: google-auth<3,>=1.6.3 in /usr/local/lib/python3.10/dist-packages (from tensorboard->trainer) (2.27.0)\n",
            "Requirement already satisfied: google-auth-oauthlib<2,>=0.5 in /usr/local/lib/python3.10/dist-packages (from tensorboard->trainer) (1.2.0)\n",
            "Requirement already satisfied: markdown>=2.6.8 in /usr/local/lib/python3.10/dist-packages (from tensorboard->trainer) (3.6)\n",
            "Requirement already satisfied: numpy>=1.12.0 in /usr/local/lib/python3.10/dist-packages (from tensorboard->trainer) (1.22.0)\n",
            "Requirement already satisfied: protobuf!=4.24.0,>=3.19.6 in /usr/local/lib/python3.10/dist-packages (from tensorboard->trainer) (3.20.3)\n",
            "Requirement already satisfied: requests<3,>=2.21.0 in /usr/local/lib/python3.10/dist-packages (from tensorboard->trainer) (2.31.0)\n",
            "Requirement already satisfied: setuptools>=41.0.0 in /usr/local/lib/python3.10/dist-packages (from tensorboard->trainer) (67.7.2)\n",
            "Requirement already satisfied: six>1.9 in /usr/local/lib/python3.10/dist-packages (from tensorboard->trainer) (1.16.0)\n",
            "Requirement already satisfied: tensorboard-data-server<0.8.0,>=0.7.0 in /usr/local/lib/python3.10/dist-packages (from tensorboard->trainer) (0.7.2)\n",
            "Requirement already satisfied: werkzeug>=1.0.1 in /usr/local/lib/python3.10/dist-packages (from tensorboard->trainer) (3.0.3)\n",
            "Requirement already satisfied: pycparser in /usr/local/lib/python3.10/dist-packages (from cffi>=1.0->soundfile->trainer) (2.22)\n",
            "Requirement already satisfied: cachetools<6.0,>=2.0.0 in /usr/local/lib/python3.10/dist-packages (from google-auth<3,>=1.6.3->tensorboard->trainer) (5.3.3)\n",
            "Requirement already satisfied: pyasn1-modules>=0.2.1 in /usr/local/lib/python3.10/dist-packages (from google-auth<3,>=1.6.3->tensorboard->trainer) (0.4.0)\n",
            "Requirement already satisfied: rsa<5,>=3.1.4 in /usr/local/lib/python3.10/dist-packages (from google-auth<3,>=1.6.3->tensorboard->trainer) (4.9)\n",
            "Requirement already satisfied: requests-oauthlib>=0.7.0 in /usr/local/lib/python3.10/dist-packages (from google-auth-oauthlib<2,>=0.5->tensorboard->trainer) (1.3.1)\n",
            "Requirement already satisfied: charset-normalizer<4,>=2 in /usr/local/lib/python3.10/dist-packages (from requests<3,>=2.21.0->tensorboard->trainer) (3.3.2)\n",
            "Requirement already satisfied: idna<4,>=2.5 in /usr/local/lib/python3.10/dist-packages (from requests<3,>=2.21.0->tensorboard->trainer) (3.7)\n",
            "Requirement already satisfied: urllib3<3,>=1.21.1 in /usr/local/lib/python3.10/dist-packages (from requests<3,>=2.21.0->tensorboard->trainer) (2.0.7)\n",
            "Requirement already satisfied: certifi>=2017.4.17 in /usr/local/lib/python3.10/dist-packages (from requests<3,>=2.21.0->tensorboard->trainer) (2024.6.2)\n",
            "Requirement already satisfied: MarkupSafe>=2.1.1 in /usr/local/lib/python3.10/dist-packages (from werkzeug>=1.0.1->tensorboard->trainer) (2.1.5)\n",
            "Requirement already satisfied: mpmath<1.4.0,>=1.1.0 in /usr/local/lib/python3.10/dist-packages (from sympy->torch>=1.7->trainer) (1.3.0)\n",
            "Requirement already satisfied: pyasn1<0.7.0,>=0.4.6 in /usr/local/lib/python3.10/dist-packages (from pyasn1-modules>=0.2.1->google-auth<3,>=1.6.3->tensorboard->trainer) (0.6.0)\n",
            "Requirement already satisfied: oauthlib>=3.0.0 in /usr/local/lib/python3.10/dist-packages (from requests-oauthlib>=0.7.0->google-auth-oauthlib<2,>=0.5->tensorboard->trainer) (3.2.2)\n"
          ]
        }
      ]
    },
    {
      "cell_type": "code",
      "source": [
        "!pip install -r requirements.txt"
      ],
      "metadata": {
        "colab": {
          "base_uri": "https://localhost:8080/"
        },
        "id": "5GeoQEirLEjq",
        "outputId": "10f5a418-55e9-40d5-c3e1-85b8e9915f49"
      },
      "execution_count": 2,
      "outputs": [
        {
          "output_type": "stream",
          "name": "stdout",
          "text": [
            "Ignoring numpy: markers 'python_version > \"3.10\"' don't match your environment\n",
            "Ignoring numba: markers 'python_version < \"3.9\"' don't match your environment\n",
            "Requirement already satisfied: numpy==1.22.0 in /usr/local/lib/python3.10/dist-packages (from -r requirements.txt (line 2)) (1.22.0)\n",
            "Requirement already satisfied: cython>=0.29.30 in /usr/local/lib/python3.10/dist-packages (from -r requirements.txt (line 4)) (3.0.10)\n",
            "Requirement already satisfied: scipy>=1.11.2 in /usr/local/lib/python3.10/dist-packages (from -r requirements.txt (line 5)) (1.11.4)\n",
            "Requirement already satisfied: torch>=2.1 in /usr/local/lib/python3.10/dist-packages (from -r requirements.txt (line 6)) (2.3.0+cu121)\n",
            "Requirement already satisfied: torchaudio in /usr/local/lib/python3.10/dist-packages (from -r requirements.txt (line 7)) (2.3.0+cu121)\n",
            "Requirement already satisfied: soundfile>=0.12.0 in /usr/local/lib/python3.10/dist-packages (from -r requirements.txt (line 8)) (0.12.1)\n",
            "Requirement already satisfied: librosa>=0.10.0 in /usr/local/lib/python3.10/dist-packages (from -r requirements.txt (line 9)) (0.10.0)\n",
            "Requirement already satisfied: scikit-learn>=1.3.0 in /usr/local/lib/python3.10/dist-packages (from -r requirements.txt (line 10)) (1.5.1)\n",
            "Requirement already satisfied: numba>=0.57.0 in /usr/local/lib/python3.10/dist-packages (from -r requirements.txt (line 12)) (0.58.1)\n",
            "Requirement already satisfied: inflect>=5.6.0 in /usr/local/lib/python3.10/dist-packages (from -r requirements.txt (line 13)) (7.0.0)\n",
            "Requirement already satisfied: tqdm>=4.64.1 in /usr/local/lib/python3.10/dist-packages (from -r requirements.txt (line 14)) (4.66.4)\n",
            "Requirement already satisfied: anyascii>=0.3.0 in /usr/local/lib/python3.10/dist-packages (from -r requirements.txt (line 15)) (0.3.2)\n",
            "Requirement already satisfied: pyyaml>=6.0 in /usr/local/lib/python3.10/dist-packages (from -r requirements.txt (line 16)) (6.0.1)\n",
            "Requirement already satisfied: fsspec>=2023.6.0 in /usr/local/lib/python3.10/dist-packages (from -r requirements.txt (line 17)) (2023.6.0)\n",
            "Requirement already satisfied: aiohttp>=3.8.1 in /usr/local/lib/python3.10/dist-packages (from -r requirements.txt (line 18)) (3.9.5)\n",
            "Requirement already satisfied: packaging>=23.1 in /usr/local/lib/python3.10/dist-packages (from -r requirements.txt (line 19)) (24.1)\n",
            "Requirement already satisfied: mutagen==1.47.0 in /usr/local/lib/python3.10/dist-packages (from -r requirements.txt (line 20)) (1.47.0)\n",
            "Requirement already satisfied: flask>=2.0.1 in /usr/local/lib/python3.10/dist-packages (from -r requirements.txt (line 22)) (2.2.5)\n",
            "Requirement already satisfied: pysbd>=0.3.4 in /usr/local/lib/python3.10/dist-packages (from -r requirements.txt (line 24)) (0.3.4)\n",
            "Requirement already satisfied: umap-learn>=0.5.1 in /usr/local/lib/python3.10/dist-packages (from -r requirements.txt (line 26)) (0.5.6)\n",
            "Requirement already satisfied: pandas<2.0,>=1.4 in /usr/local/lib/python3.10/dist-packages (from -r requirements.txt (line 27)) (1.5.3)\n",
            "Requirement already satisfied: matplotlib>=3.7.0 in /usr/local/lib/python3.10/dist-packages (from -r requirements.txt (line 29)) (3.7.1)\n",
            "Requirement already satisfied: trainer>=0.0.36 in /usr/local/lib/python3.10/dist-packages (from -r requirements.txt (line 31)) (0.0.36)\n",
            "Requirement already satisfied: coqpit>=0.0.16 in /usr/local/lib/python3.10/dist-packages (from -r requirements.txt (line 33)) (0.0.17)\n",
            "Requirement already satisfied: jieba in /usr/local/lib/python3.10/dist-packages (from -r requirements.txt (line 35)) (0.42.1)\n",
            "Requirement already satisfied: pypinyin in /usr/local/lib/python3.10/dist-packages (from -r requirements.txt (line 36)) (0.51.0)\n",
            "Requirement already satisfied: hangul_romanize in /usr/local/lib/python3.10/dist-packages (from -r requirements.txt (line 38)) (0.1.0)\n",
            "Requirement already satisfied: gruut[de,es,fr]==2.2.3 in /usr/local/lib/python3.10/dist-packages (from -r requirements.txt (line 40)) (2.2.3)\n",
            "Requirement already satisfied: jamo in /usr/local/lib/python3.10/dist-packages (from -r requirements.txt (line 42)) (0.4.1)\n",
            "Requirement already satisfied: nltk in /usr/local/lib/python3.10/dist-packages (from -r requirements.txt (line 43)) (3.8.1)\n",
            "Requirement already satisfied: g2pkk>=0.1.1 in /usr/local/lib/python3.10/dist-packages (from -r requirements.txt (line 44)) (0.1.2)\n",
            "Requirement already satisfied: bangla in /usr/local/lib/python3.10/dist-packages (from -r requirements.txt (line 46)) (0.0.2)\n",
            "Requirement already satisfied: bnnumerizer in /usr/local/lib/python3.10/dist-packages (from -r requirements.txt (line 47)) (0.0.2)\n",
            "Requirement already satisfied: bnunicodenormalizer in /usr/local/lib/python3.10/dist-packages (from -r requirements.txt (line 48)) (0.1.7)\n",
            "Requirement already satisfied: einops>=0.6.0 in /usr/local/lib/python3.10/dist-packages (from -r requirements.txt (line 50)) (0.8.0)\n",
            "Requirement already satisfied: transformers>=4.33.0 in /usr/local/lib/python3.10/dist-packages (from -r requirements.txt (line 51)) (4.40.2)\n",
            "Requirement already satisfied: encodec>=0.1.1 in /usr/local/lib/python3.10/dist-packages (from -r requirements.txt (line 53)) (0.1.1)\n",
            "Requirement already satisfied: unidecode>=1.3.2 in /usr/local/lib/python3.10/dist-packages (from -r requirements.txt (line 55)) (1.3.8)\n",
            "Requirement already satisfied: num2words in /usr/local/lib/python3.10/dist-packages (from -r requirements.txt (line 56)) (0.5.13)\n",
            "Requirement already satisfied: spacy[ja]>=3 in /usr/local/lib/python3.10/dist-packages (from -r requirements.txt (line 57)) (3.7.5)\n",
            "Requirement already satisfied: Babel<3.0.0,>=2.8.0 in /usr/local/lib/python3.10/dist-packages (from gruut[de,es,fr]==2.2.3->-r requirements.txt (line 40)) (2.15.0)\n",
            "Requirement already satisfied: dateparser~=1.1.0 in /usr/local/lib/python3.10/dist-packages (from gruut[de,es,fr]==2.2.3->-r requirements.txt (line 40)) (1.1.8)\n",
            "Requirement already satisfied: gruut-ipa<1.0,>=0.12.0 in /usr/local/lib/python3.10/dist-packages (from gruut[de,es,fr]==2.2.3->-r requirements.txt (line 40)) (0.13.0)\n",
            "Requirement already satisfied: gruut-lang-en~=2.0.0 in /usr/local/lib/python3.10/dist-packages (from gruut[de,es,fr]==2.2.3->-r requirements.txt (line 40)) (2.0.1)\n",
            "Requirement already satisfied: jsonlines~=1.2.0 in /usr/local/lib/python3.10/dist-packages (from gruut[de,es,fr]==2.2.3->-r requirements.txt (line 40)) (1.2.0)\n",
            "Requirement already satisfied: networkx<3.0.0,>=2.5.0 in /usr/local/lib/python3.10/dist-packages (from gruut[de,es,fr]==2.2.3->-r requirements.txt (line 40)) (2.8.8)\n",
            "Requirement already satisfied: python-crfsuite~=0.9.7 in /usr/local/lib/python3.10/dist-packages (from gruut[de,es,fr]==2.2.3->-r requirements.txt (line 40)) (0.9.10)\n",
            "Requirement already satisfied: gruut-lang-es~=2.0.0 in /usr/local/lib/python3.10/dist-packages (from gruut[de,es,fr]==2.2.3->-r requirements.txt (line 40)) (2.0.1)\n",
            "Requirement already satisfied: gruut-lang-de~=2.0.0 in /usr/local/lib/python3.10/dist-packages (from gruut[de,es,fr]==2.2.3->-r requirements.txt (line 40)) (2.0.1)\n",
            "Requirement already satisfied: gruut-lang-fr~=2.0.0 in /usr/local/lib/python3.10/dist-packages (from gruut[de,es,fr]==2.2.3->-r requirements.txt (line 40)) (2.0.2)\n",
            "Requirement already satisfied: filelock in /usr/local/lib/python3.10/dist-packages (from torch>=2.1->-r requirements.txt (line 6)) (3.15.4)\n",
            "Requirement already satisfied: typing-extensions>=4.8.0 in /usr/local/lib/python3.10/dist-packages (from torch>=2.1->-r requirements.txt (line 6)) (4.12.2)\n",
            "Requirement already satisfied: sympy in /usr/local/lib/python3.10/dist-packages (from torch>=2.1->-r requirements.txt (line 6)) (1.12.1)\n",
            "Requirement already satisfied: jinja2 in /usr/local/lib/python3.10/dist-packages (from torch>=2.1->-r requirements.txt (line 6)) (3.1.4)\n",
            "Requirement already satisfied: nvidia-cuda-nvrtc-cu12==12.1.105 in /usr/local/lib/python3.10/dist-packages (from torch>=2.1->-r requirements.txt (line 6)) (12.1.105)\n",
            "Requirement already satisfied: nvidia-cuda-runtime-cu12==12.1.105 in /usr/local/lib/python3.10/dist-packages (from torch>=2.1->-r requirements.txt (line 6)) (12.1.105)\n",
            "Requirement already satisfied: nvidia-cuda-cupti-cu12==12.1.105 in /usr/local/lib/python3.10/dist-packages (from torch>=2.1->-r requirements.txt (line 6)) (12.1.105)\n",
            "Requirement already satisfied: nvidia-cudnn-cu12==8.9.2.26 in /usr/local/lib/python3.10/dist-packages (from torch>=2.1->-r requirements.txt (line 6)) (8.9.2.26)\n",
            "Requirement already satisfied: nvidia-cublas-cu12==12.1.3.1 in /usr/local/lib/python3.10/dist-packages (from torch>=2.1->-r requirements.txt (line 6)) (12.1.3.1)\n",
            "Requirement already satisfied: nvidia-cufft-cu12==11.0.2.54 in /usr/local/lib/python3.10/dist-packages (from torch>=2.1->-r requirements.txt (line 6)) (11.0.2.54)\n",
            "Requirement already satisfied: nvidia-curand-cu12==10.3.2.106 in /usr/local/lib/python3.10/dist-packages (from torch>=2.1->-r requirements.txt (line 6)) (10.3.2.106)\n",
            "Requirement already satisfied: nvidia-cusolver-cu12==11.4.5.107 in /usr/local/lib/python3.10/dist-packages (from torch>=2.1->-r requirements.txt (line 6)) (11.4.5.107)\n",
            "Requirement already satisfied: nvidia-cusparse-cu12==12.1.0.106 in /usr/local/lib/python3.10/dist-packages (from torch>=2.1->-r requirements.txt (line 6)) (12.1.0.106)\n",
            "Requirement already satisfied: nvidia-nccl-cu12==2.20.5 in /usr/local/lib/python3.10/dist-packages (from torch>=2.1->-r requirements.txt (line 6)) (2.20.5)\n",
            "Requirement already satisfied: nvidia-nvtx-cu12==12.1.105 in /usr/local/lib/python3.10/dist-packages (from torch>=2.1->-r requirements.txt (line 6)) (12.1.105)\n",
            "Requirement already satisfied: triton==2.3.0 in /usr/local/lib/python3.10/dist-packages (from torch>=2.1->-r requirements.txt (line 6)) (2.3.0)\n",
            "Requirement already satisfied: nvidia-nvjitlink-cu12 in /usr/local/lib/python3.10/dist-packages (from nvidia-cusolver-cu12==11.4.5.107->torch>=2.1->-r requirements.txt (line 6)) (12.5.82)\n",
            "Requirement already satisfied: cffi>=1.0 in /usr/local/lib/python3.10/dist-packages (from soundfile>=0.12.0->-r requirements.txt (line 8)) (1.16.0)\n",
            "Requirement already satisfied: audioread>=2.1.9 in /usr/local/lib/python3.10/dist-packages (from librosa>=0.10.0->-r requirements.txt (line 9)) (3.0.1)\n",
            "Requirement already satisfied: joblib>=0.14 in /usr/local/lib/python3.10/dist-packages (from librosa>=0.10.0->-r requirements.txt (line 9)) (1.4.2)\n",
            "Requirement already satisfied: decorator>=4.3.0 in /usr/local/lib/python3.10/dist-packages (from librosa>=0.10.0->-r requirements.txt (line 9)) (4.4.2)\n",
            "Requirement already satisfied: pooch>=1.0 in /usr/local/lib/python3.10/dist-packages (from librosa>=0.10.0->-r requirements.txt (line 9)) (1.8.2)\n",
            "Requirement already satisfied: soxr>=0.3.2 in /usr/local/lib/python3.10/dist-packages (from librosa>=0.10.0->-r requirements.txt (line 9)) (0.3.7)\n",
            "Requirement already satisfied: lazy-loader>=0.1 in /usr/local/lib/python3.10/dist-packages (from librosa>=0.10.0->-r requirements.txt (line 9)) (0.4)\n",
            "Requirement already satisfied: msgpack>=1.0 in /usr/local/lib/python3.10/dist-packages (from librosa>=0.10.0->-r requirements.txt (line 9)) (1.0.8)\n",
            "Requirement already satisfied: threadpoolctl>=3.1.0 in /usr/local/lib/python3.10/dist-packages (from scikit-learn>=1.3.0->-r requirements.txt (line 10)) (3.5.0)\n",
            "Requirement already satisfied: llvmlite<0.42,>=0.41.0dev0 in /usr/local/lib/python3.10/dist-packages (from numba>=0.57.0->-r requirements.txt (line 12)) (0.41.1)\n",
            "Requirement already satisfied: pydantic>=1.9.1 in /usr/local/lib/python3.10/dist-packages (from inflect>=5.6.0->-r requirements.txt (line 13)) (2.8.0)\n",
            "Requirement already satisfied: aiosignal>=1.1.2 in /usr/local/lib/python3.10/dist-packages (from aiohttp>=3.8.1->-r requirements.txt (line 18)) (1.3.1)\n",
            "Requirement already satisfied: attrs>=17.3.0 in /usr/local/lib/python3.10/dist-packages (from aiohttp>=3.8.1->-r requirements.txt (line 18)) (23.2.0)\n",
            "Requirement already satisfied: frozenlist>=1.1.1 in /usr/local/lib/python3.10/dist-packages (from aiohttp>=3.8.1->-r requirements.txt (line 18)) (1.4.1)\n",
            "Requirement already satisfied: multidict<7.0,>=4.5 in /usr/local/lib/python3.10/dist-packages (from aiohttp>=3.8.1->-r requirements.txt (line 18)) (6.0.5)\n",
            "Requirement already satisfied: yarl<2.0,>=1.0 in /usr/local/lib/python3.10/dist-packages (from aiohttp>=3.8.1->-r requirements.txt (line 18)) (1.9.4)\n",
            "Requirement already satisfied: async-timeout<5.0,>=4.0 in /usr/local/lib/python3.10/dist-packages (from aiohttp>=3.8.1->-r requirements.txt (line 18)) (4.0.3)\n",
            "Requirement already satisfied: Werkzeug>=2.2.2 in /usr/local/lib/python3.10/dist-packages (from flask>=2.0.1->-r requirements.txt (line 22)) (3.0.3)\n",
            "Requirement already satisfied: itsdangerous>=2.0 in /usr/local/lib/python3.10/dist-packages (from flask>=2.0.1->-r requirements.txt (line 22)) (2.2.0)\n",
            "Requirement already satisfied: click>=8.0 in /usr/local/lib/python3.10/dist-packages (from flask>=2.0.1->-r requirements.txt (line 22)) (8.1.7)\n",
            "Requirement already satisfied: pynndescent>=0.5 in /usr/local/lib/python3.10/dist-packages (from umap-learn>=0.5.1->-r requirements.txt (line 26)) (0.5.13)\n",
            "Requirement already satisfied: python-dateutil>=2.8.1 in /usr/local/lib/python3.10/dist-packages (from pandas<2.0,>=1.4->-r requirements.txt (line 27)) (2.8.2)\n",
            "Requirement already satisfied: pytz>=2020.1 in /usr/local/lib/python3.10/dist-packages (from pandas<2.0,>=1.4->-r requirements.txt (line 27)) (2023.4)\n",
            "Requirement already satisfied: contourpy>=1.0.1 in /usr/local/lib/python3.10/dist-packages (from matplotlib>=3.7.0->-r requirements.txt (line 29)) (1.2.1)\n",
            "Requirement already satisfied: cycler>=0.10 in /usr/local/lib/python3.10/dist-packages (from matplotlib>=3.7.0->-r requirements.txt (line 29)) (0.12.1)\n",
            "Requirement already satisfied: fonttools>=4.22.0 in /usr/local/lib/python3.10/dist-packages (from matplotlib>=3.7.0->-r requirements.txt (line 29)) (4.53.0)\n",
            "Requirement already satisfied: kiwisolver>=1.0.1 in /usr/local/lib/python3.10/dist-packages (from matplotlib>=3.7.0->-r requirements.txt (line 29)) (1.4.5)\n",
            "Requirement already satisfied: pillow>=6.2.0 in /usr/local/lib/python3.10/dist-packages (from matplotlib>=3.7.0->-r requirements.txt (line 29)) (9.4.0)\n",
            "Requirement already satisfied: pyparsing>=2.3.1 in /usr/local/lib/python3.10/dist-packages (from matplotlib>=3.7.0->-r requirements.txt (line 29)) (3.1.2)\n",
            "Requirement already satisfied: psutil in /usr/local/lib/python3.10/dist-packages (from trainer>=0.0.36->-r requirements.txt (line 31)) (5.9.5)\n",
            "Requirement already satisfied: tensorboard in /usr/local/lib/python3.10/dist-packages (from trainer>=0.0.36->-r requirements.txt (line 31)) (2.15.2)\n",
            "Requirement already satisfied: regex>=2021.8.3 in /usr/local/lib/python3.10/dist-packages (from nltk->-r requirements.txt (line 43)) (2024.5.15)\n",
            "Requirement already satisfied: huggingface-hub<1.0,>=0.19.3 in /usr/local/lib/python3.10/dist-packages (from transformers>=4.33.0->-r requirements.txt (line 51)) (0.23.4)\n",
            "Requirement already satisfied: requests in /usr/local/lib/python3.10/dist-packages (from transformers>=4.33.0->-r requirements.txt (line 51)) (2.31.0)\n",
            "Requirement already satisfied: tokenizers<0.20,>=0.19 in /usr/local/lib/python3.10/dist-packages (from transformers>=4.33.0->-r requirements.txt (line 51)) (0.19.1)\n",
            "Requirement already satisfied: safetensors>=0.4.1 in /usr/local/lib/python3.10/dist-packages (from transformers>=4.33.0->-r requirements.txt (line 51)) (0.4.3)\n",
            "Requirement already satisfied: docopt>=0.6.2 in /usr/local/lib/python3.10/dist-packages (from num2words->-r requirements.txt (line 56)) (0.6.2)\n",
            "Requirement already satisfied: spacy-legacy<3.1.0,>=3.0.11 in /usr/local/lib/python3.10/dist-packages (from spacy[ja]>=3->-r requirements.txt (line 57)) (3.0.12)\n",
            "Requirement already satisfied: spacy-loggers<2.0.0,>=1.0.0 in /usr/local/lib/python3.10/dist-packages (from spacy[ja]>=3->-r requirements.txt (line 57)) (1.0.5)\n",
            "Requirement already satisfied: murmurhash<1.1.0,>=0.28.0 in /usr/local/lib/python3.10/dist-packages (from spacy[ja]>=3->-r requirements.txt (line 57)) (1.0.10)\n",
            "Requirement already satisfied: cymem<2.1.0,>=2.0.2 in /usr/local/lib/python3.10/dist-packages (from spacy[ja]>=3->-r requirements.txt (line 57)) (2.0.8)\n",
            "Requirement already satisfied: preshed<3.1.0,>=3.0.2 in /usr/local/lib/python3.10/dist-packages (from spacy[ja]>=3->-r requirements.txt (line 57)) (3.0.9)\n",
            "Requirement already satisfied: thinc<8.3.0,>=8.2.2 in /usr/local/lib/python3.10/dist-packages (from spacy[ja]>=3->-r requirements.txt (line 57)) (8.2.5)\n",
            "Requirement already satisfied: wasabi<1.2.0,>=0.9.1 in /usr/local/lib/python3.10/dist-packages (from spacy[ja]>=3->-r requirements.txt (line 57)) (1.1.3)\n",
            "Requirement already satisfied: srsly<3.0.0,>=2.4.3 in /usr/local/lib/python3.10/dist-packages (from spacy[ja]>=3->-r requirements.txt (line 57)) (2.4.8)\n",
            "Requirement already satisfied: catalogue<2.1.0,>=2.0.6 in /usr/local/lib/python3.10/dist-packages (from spacy[ja]>=3->-r requirements.txt (line 57)) (2.0.10)\n",
            "Requirement already satisfied: weasel<0.5.0,>=0.1.0 in /usr/local/lib/python3.10/dist-packages (from spacy[ja]>=3->-r requirements.txt (line 57)) (0.4.1)\n",
            "Requirement already satisfied: typer<1.0.0,>=0.3.0 in /usr/local/lib/python3.10/dist-packages (from spacy[ja]>=3->-r requirements.txt (line 57)) (0.12.3)\n",
            "Requirement already satisfied: setuptools in /usr/local/lib/python3.10/dist-packages (from spacy[ja]>=3->-r requirements.txt (line 57)) (67.7.2)\n",
            "Requirement already satisfied: langcodes<4.0.0,>=3.2.0 in /usr/local/lib/python3.10/dist-packages (from spacy[ja]>=3->-r requirements.txt (line 57)) (3.4.0)\n",
            "Requirement already satisfied: sudachipy!=0.6.1,>=0.5.2 in /usr/local/lib/python3.10/dist-packages (from spacy[ja]>=3->-r requirements.txt (line 57)) (0.6.8)\n",
            "Requirement already satisfied: sudachidict-core>=20211220 in /usr/local/lib/python3.10/dist-packages (from spacy[ja]>=3->-r requirements.txt (line 57)) (20240409)\n",
            "Requirement already satisfied: pycparser in /usr/local/lib/python3.10/dist-packages (from cffi>=1.0->soundfile>=0.12.0->-r requirements.txt (line 8)) (2.22)\n",
            "Requirement already satisfied: tzlocal in /usr/local/lib/python3.10/dist-packages (from dateparser~=1.1.0->gruut[de,es,fr]==2.2.3->-r requirements.txt (line 40)) (5.2)\n",
            "Requirement already satisfied: MarkupSafe>=2.0 in /usr/local/lib/python3.10/dist-packages (from jinja2->torch>=2.1->-r requirements.txt (line 6)) (2.1.5)\n",
            "Requirement already satisfied: six in /usr/local/lib/python3.10/dist-packages (from jsonlines~=1.2.0->gruut[de,es,fr]==2.2.3->-r requirements.txt (line 40)) (1.16.0)\n",
            "Requirement already satisfied: language-data>=1.2 in /usr/local/lib/python3.10/dist-packages (from langcodes<4.0.0,>=3.2.0->spacy[ja]>=3->-r requirements.txt (line 57)) (1.2.0)\n",
            "Requirement already satisfied: platformdirs>=2.5.0 in /usr/local/lib/python3.10/dist-packages (from pooch>=1.0->librosa>=0.10.0->-r requirements.txt (line 9)) (4.2.2)\n",
            "Requirement already satisfied: annotated-types>=0.4.0 in /usr/local/lib/python3.10/dist-packages (from pydantic>=1.9.1->inflect>=5.6.0->-r requirements.txt (line 13)) (0.7.0)\n",
            "Requirement already satisfied: pydantic-core==2.20.0 in /usr/local/lib/python3.10/dist-packages (from pydantic>=1.9.1->inflect>=5.6.0->-r requirements.txt (line 13)) (2.20.0)\n",
            "Requirement already satisfied: charset-normalizer<4,>=2 in /usr/local/lib/python3.10/dist-packages (from requests->transformers>=4.33.0->-r requirements.txt (line 51)) (3.3.2)\n",
            "Requirement already satisfied: idna<4,>=2.5 in /usr/local/lib/python3.10/dist-packages (from requests->transformers>=4.33.0->-r requirements.txt (line 51)) (3.7)\n",
            "Requirement already satisfied: urllib3<3,>=1.21.1 in /usr/local/lib/python3.10/dist-packages (from requests->transformers>=4.33.0->-r requirements.txt (line 51)) (2.0.7)\n",
            "Requirement already satisfied: certifi>=2017.4.17 in /usr/local/lib/python3.10/dist-packages (from requests->transformers>=4.33.0->-r requirements.txt (line 51)) (2024.6.2)\n",
            "Requirement already satisfied: blis<0.8.0,>=0.7.8 in /usr/local/lib/python3.10/dist-packages (from thinc<8.3.0,>=8.2.2->spacy[ja]>=3->-r requirements.txt (line 57)) (0.7.11)\n",
            "Requirement already satisfied: confection<1.0.0,>=0.0.1 in /usr/local/lib/python3.10/dist-packages (from thinc<8.3.0,>=8.2.2->spacy[ja]>=3->-r requirements.txt (line 57)) (0.1.5)\n",
            "Requirement already satisfied: shellingham>=1.3.0 in /usr/local/lib/python3.10/dist-packages (from typer<1.0.0,>=0.3.0->spacy[ja]>=3->-r requirements.txt (line 57)) (1.5.4)\n",
            "Requirement already satisfied: rich>=10.11.0 in /usr/local/lib/python3.10/dist-packages (from typer<1.0.0,>=0.3.0->spacy[ja]>=3->-r requirements.txt (line 57)) (13.7.1)\n",
            "Requirement already satisfied: cloudpathlib<1.0.0,>=0.7.0 in /usr/local/lib/python3.10/dist-packages (from weasel<0.5.0,>=0.1.0->spacy[ja]>=3->-r requirements.txt (line 57)) (0.18.1)\n",
            "Requirement already satisfied: smart-open<8.0.0,>=5.2.1 in /usr/local/lib/python3.10/dist-packages (from weasel<0.5.0,>=0.1.0->spacy[ja]>=3->-r requirements.txt (line 57)) (7.0.4)\n",
            "Requirement already satisfied: mpmath<1.4.0,>=1.1.0 in /usr/local/lib/python3.10/dist-packages (from sympy->torch>=2.1->-r requirements.txt (line 6)) (1.3.0)\n",
            "Requirement already satisfied: absl-py>=0.4 in /usr/local/lib/python3.10/dist-packages (from tensorboard->trainer>=0.0.36->-r requirements.txt (line 31)) (1.4.0)\n",
            "Requirement already satisfied: grpcio>=1.48.2 in /usr/local/lib/python3.10/dist-packages (from tensorboard->trainer>=0.0.36->-r requirements.txt (line 31)) (1.64.1)\n",
            "Requirement already satisfied: google-auth<3,>=1.6.3 in /usr/local/lib/python3.10/dist-packages (from tensorboard->trainer>=0.0.36->-r requirements.txt (line 31)) (2.27.0)\n",
            "Requirement already satisfied: google-auth-oauthlib<2,>=0.5 in /usr/local/lib/python3.10/dist-packages (from tensorboard->trainer>=0.0.36->-r requirements.txt (line 31)) (1.2.0)\n",
            "Requirement already satisfied: markdown>=2.6.8 in /usr/local/lib/python3.10/dist-packages (from tensorboard->trainer>=0.0.36->-r requirements.txt (line 31)) (3.6)\n",
            "Requirement already satisfied: protobuf!=4.24.0,>=3.19.6 in /usr/local/lib/python3.10/dist-packages (from tensorboard->trainer>=0.0.36->-r requirements.txt (line 31)) (3.20.3)\n",
            "Requirement already satisfied: tensorboard-data-server<0.8.0,>=0.7.0 in /usr/local/lib/python3.10/dist-packages (from tensorboard->trainer>=0.0.36->-r requirements.txt (line 31)) (0.7.2)\n",
            "Requirement already satisfied: cachetools<6.0,>=2.0.0 in /usr/local/lib/python3.10/dist-packages (from google-auth<3,>=1.6.3->tensorboard->trainer>=0.0.36->-r requirements.txt (line 31)) (5.3.3)\n",
            "Requirement already satisfied: pyasn1-modules>=0.2.1 in /usr/local/lib/python3.10/dist-packages (from google-auth<3,>=1.6.3->tensorboard->trainer>=0.0.36->-r requirements.txt (line 31)) (0.4.0)\n",
            "Requirement already satisfied: rsa<5,>=3.1.4 in /usr/local/lib/python3.10/dist-packages (from google-auth<3,>=1.6.3->tensorboard->trainer>=0.0.36->-r requirements.txt (line 31)) (4.9)\n",
            "Requirement already satisfied: requests-oauthlib>=0.7.0 in /usr/local/lib/python3.10/dist-packages (from google-auth-oauthlib<2,>=0.5->tensorboard->trainer>=0.0.36->-r requirements.txt (line 31)) (1.3.1)\n",
            "Requirement already satisfied: marisa-trie>=0.7.7 in /usr/local/lib/python3.10/dist-packages (from language-data>=1.2->langcodes<4.0.0,>=3.2.0->spacy[ja]>=3->-r requirements.txt (line 57)) (1.2.0)\n",
            "Requirement already satisfied: markdown-it-py>=2.2.0 in /usr/local/lib/python3.10/dist-packages (from rich>=10.11.0->typer<1.0.0,>=0.3.0->spacy[ja]>=3->-r requirements.txt (line 57)) (3.0.0)\n",
            "Requirement already satisfied: pygments<3.0.0,>=2.13.0 in /usr/local/lib/python3.10/dist-packages (from rich>=10.11.0->typer<1.0.0,>=0.3.0->spacy[ja]>=3->-r requirements.txt (line 57)) (2.16.1)\n",
            "Requirement already satisfied: wrapt in /usr/local/lib/python3.10/dist-packages (from smart-open<8.0.0,>=5.2.1->weasel<0.5.0,>=0.1.0->spacy[ja]>=3->-r requirements.txt (line 57)) (1.14.1)\n",
            "Requirement already satisfied: mdurl~=0.1 in /usr/local/lib/python3.10/dist-packages (from markdown-it-py>=2.2.0->rich>=10.11.0->typer<1.0.0,>=0.3.0->spacy[ja]>=3->-r requirements.txt (line 57)) (0.1.2)\n",
            "Requirement already satisfied: pyasn1<0.7.0,>=0.4.6 in /usr/local/lib/python3.10/dist-packages (from pyasn1-modules>=0.2.1->google-auth<3,>=1.6.3->tensorboard->trainer>=0.0.36->-r requirements.txt (line 31)) (0.6.0)\n",
            "Requirement already satisfied: oauthlib>=3.0.0 in /usr/local/lib/python3.10/dist-packages (from requests-oauthlib>=0.7.0->google-auth-oauthlib<2,>=0.5->tensorboard->trainer>=0.0.36->-r requirements.txt (line 31)) (3.2.2)\n"
          ]
        }
      ]
    },
    {
      "cell_type": "code",
      "source": [
        "!ls -l"
      ],
      "metadata": {
        "id": "bLtfT-IAZCg0",
        "outputId": "3269957d-0a04-4e16-875e-17c29124f36e",
        "colab": {
          "base_uri": "https://localhost:8080/"
        }
      },
      "execution_count": 11,
      "outputs": [
        {
          "output_type": "stream",
          "name": "stdout",
          "text": [
            "total 152\n",
            "-rw-r--r--  1 root root   589 Jul  4 09:44 CITATION.cff\n",
            "-rw-r--r--  1 root root  5488 Jul  4 09:44 CODE_OF_CONDUCT.md\n",
            "-rw-r--r--  1 root root  4106 Jul  4 09:44 CODE_OWNERS.rst\n",
            "-rw-r--r--  1 root root  6231 Jul  4 09:44 CONTRIBUTING.md\n",
            "-rw-r--r--  1 root root   578 Jul  4 09:44 Dockerfile\n",
            "drwxr-xr-x  2 root root  4096 Jul  4 09:44 dockerfiles\n",
            "drwxr-xr-x  3 root root  4096 Jul  4 09:44 docs\n",
            "-rw-r--r--  1 root root  1892 Jul  4 09:44 hubconf.py\n",
            "drwxr-xr-x  2 root root  4096 Jul  4 09:44 images\n",
            "-rw-r--r--  1 root root 16726 Jul  4 09:44 LICENSE.txt\n",
            "-rw-r--r--  1 root root  2246 Jul  4 09:44 Makefile\n",
            "-rw-r--r--  1 root root   362 Jul  4 09:44 MANIFEST.in\n",
            "drwxr-xr-x  3 root root  4096 Jul  4 09:44 notebooks\n",
            "-rw-r--r--  1 root root   282 Jul  4 09:44 pyproject.toml\n",
            "-rw-r--r--  1 root root 17429 Jul  4 09:44 README.md\n",
            "drwxr-xr-x  9 root root  4096 Jul  4 09:44 recipes\n",
            "-rw-r--r--  1 root root    42 Jul  4 09:44 requirements.dev.txt\n",
            "-rw-r--r--  1 root root   154 Jul  4 09:44 requirements.ja.txt\n",
            "-rw-r--r--  1 root root    12 Jul  4 09:44 requirements.notebooks.txt\n",
            "-rw-r--r--  1 root root   986 Jul  4 09:44 requirements.txt\n",
            "-rwxr-xr-x  1 root root   177 Jul  4 09:44 run_bash_tests.sh\n",
            "drwxr-xr-x  2 root root  4096 Jul  4 09:44 scripts\n",
            "-rw-r--r--  1 root root   104 Jul  4 09:44 setup.cfg\n",
            "-rw-r--r--  1 root root  5356 Jul  4 09:44 setup.py\n",
            "drwxr-xr-x 15 root root  4096 Jul  4 09:44 tests\n",
            "drwxr-xr-x 13 root root  4096 Jul  4 10:52 TTS\n"
          ]
        }
      ]
    },
    {
      "cell_type": "code",
      "source": [
        "%cd TTS"
      ],
      "metadata": {
        "colab": {
          "base_uri": "https://localhost:8080/"
        },
        "id": "KaGaNbTLaqlo",
        "outputId": "befa6a4d-c232-4930-d217-b7a58aa61213"
      },
      "execution_count": 12,
      "outputs": [
        {
          "output_type": "stream",
          "name": "stdout",
          "text": [
            "/content/TTS/TTS\n"
          ]
        }
      ]
    },
    {
      "cell_type": "code",
      "source": [
        "!ls -l"
      ],
      "metadata": {
        "colab": {
          "base_uri": "https://localhost:8080/"
        },
        "id": "rKgItCFaau_5",
        "outputId": "d837f88a-a63f-49ad-b288-7bc3e2488968"
      },
      "execution_count": 3,
      "outputs": [
        {
          "output_type": "stream",
          "name": "stdout",
          "text": [
            "total 156\n",
            "-rw-r--r--  1 root root   589 Jul  4 09:44 CITATION.cff\n",
            "-rw-r--r--  1 root root  5488 Jul  4 09:44 CODE_OF_CONDUCT.md\n",
            "-rw-r--r--  1 root root  4106 Jul  4 09:44 CODE_OWNERS.rst\n",
            "-rw-r--r--  1 root root  6231 Jul  4 09:44 CONTRIBUTING.md\n",
            "-rw-r--r--  1 root root   578 Jul  4 09:44 Dockerfile\n",
            "drwxr-xr-x  2 root root  4096 Jul  4 09:44 dockerfiles\n",
            "drwxr-xr-x  3 root root  4096 Jul  4 09:44 docs\n",
            "-rw-r--r--  1 root root  1892 Jul  4 09:44 hubconf.py\n",
            "drwxr-xr-x  2 root root  4096 Jul  4 09:44 images\n",
            "-rw-r--r--  1 root root 16726 Jul  4 09:44 LICENSE.txt\n",
            "-rw-r--r--  1 root root  2246 Jul  4 09:44 Makefile\n",
            "-rw-r--r--  1 root root   362 Jul  4 09:44 MANIFEST.in\n",
            "drwxr-xr-x  3 root root  4096 Jul  4 09:44 notebooks\n",
            "drwxr-xr-x  2 root root  4096 Jul  4 11:08 __pycache__\n",
            "-rw-r--r--  1 root root   282 Jul  4 09:44 pyproject.toml\n",
            "-rw-r--r--  1 root root 17429 Jul  4 09:44 README.md\n",
            "drwxr-xr-x  9 root root  4096 Jul  4 09:44 recipes\n",
            "-rw-r--r--  1 root root    42 Jul  4 09:44 requirements.dev.txt\n",
            "-rw-r--r--  1 root root   154 Jul  4 09:44 requirements.ja.txt\n",
            "-rw-r--r--  1 root root    12 Jul  4 09:44 requirements.notebooks.txt\n",
            "-rw-r--r--  1 root root   986 Jul  4 09:44 requirements.txt\n",
            "-rwxr-xr-x  1 root root   177 Jul  4 09:44 run_bash_tests.sh\n",
            "drwxr-xr-x  2 root root  4096 Jul  4 09:44 scripts\n",
            "-rw-r--r--  1 root root   104 Jul  4 09:44 setup.cfg\n",
            "-rw-r--r--  1 root root  5356 Jul  4 09:44 setup.py\n",
            "drwxr-xr-x 15 root root  4096 Jul  4 09:44 tests\n",
            "drwxr-xr-x 13 root root  4096 Jul  4 10:52 TTS\n"
          ]
        }
      ]
    },
    {
      "cell_type": "code",
      "source": [
        "%cd TTS/"
      ],
      "metadata": {
        "colab": {
          "base_uri": "https://localhost:8080/"
        },
        "id": "H3SX1hQsbDzj",
        "outputId": "3a984b5a-d395-438e-b585-e0d6036d1756"
      },
      "execution_count": 20,
      "outputs": [
        {
          "output_type": "stream",
          "name": "stdout",
          "text": [
            "/content/TTS/TTS\n"
          ]
        }
      ]
    },
    {
      "cell_type": "code",
      "source": [
        "%cd .."
      ],
      "metadata": {
        "colab": {
          "base_uri": "https://localhost:8080/"
        },
        "id": "oYt0cC4BbKfI",
        "outputId": "0068a605-c1f1-4d99-e255-5eb98a15bf20"
      },
      "execution_count": 25,
      "outputs": [
        {
          "output_type": "stream",
          "name": "stdout",
          "text": [
            "/content/TTS\n"
          ]
        }
      ]
    },
    {
      "cell_type": "code",
      "source": [
        "import os\n",
        "from TTS.api import TTS\n",
        "\n",
        "# Get device ('cuda' or 'cpu')\n",
        "# device=\"mps\"\n",
        "\n",
        "# txt=\"This makes sense, hey man can you hear the voice cloned.\"\n",
        "\n",
        "\n",
        "# #Define audio sample\n",
        "# # sample=\"../my-voices/ultron-es/mix.wav\"\n",
        "# samples = os.listdir(\"../input\")\n",
        "\n",
        "# print(samples)\n",
        "# tts1 = TTS(\"tts_models/multilingual/multi-dataset/xtts_v2\").to(\"gpu\")\n",
        "# for sample in samples:\n",
        "#     if sample.endswith('.wav'):\n",
        "#         print(sample)\n",
        "\n",
        "#         tts1.tts_to_file(txt, speaker_wav=f\"../input/{sample}\", language=\"en\", file_path=f\"../output/{sample}_output.wav\")"
      ],
      "metadata": {
        "id": "xH5qnLgvbUaU"
      },
      "execution_count": 4,
      "outputs": []
    },
    {
      "cell_type": "code",
      "source": [
        "%cd .."
      ],
      "metadata": {
        "colab": {
          "base_uri": "https://localhost:8080/"
        },
        "id": "gY2_EZjybddu",
        "outputId": "b1b4ab18-6c9a-4f17-ee6a-15b301eda9ce"
      },
      "execution_count": 30,
      "outputs": [
        {
          "output_type": "stream",
          "name": "stdout",
          "text": [
            "/content\n"
          ]
        }
      ]
    },
    {
      "cell_type": "code",
      "source": [
        "import torch\n",
        "print(torch.cuda.is_available())"
      ],
      "metadata": {
        "colab": {
          "base_uri": "https://localhost:8080/"
        },
        "id": "hJfLEOLpL1g4",
        "outputId": "095686a4-aa78-4c57-a8ec-72d69dd2ccaa"
      },
      "execution_count": 5,
      "outputs": [
        {
          "output_type": "stream",
          "name": "stdout",
          "text": [
            "True\n"
          ]
        }
      ]
    },
    {
      "cell_type": "code",
      "source": [
        "device=\"cuda\"\n",
        "\n",
        "txt=\"This makes sense, hey man can you hear the voice cloned. this is just testing for me, lets do it\"\n",
        "\n",
        "\n",
        "#Define audio sample\n",
        "# sample=\"../my-voices/ultron-es/mix.wav\"\n",
        "samples = os.listdir(\"../input\")\n",
        "\n",
        "print(samples)\n",
        "tts1 = TTS(\"tts_models/multilingual/multi-dataset/xtts_v2\").to(device)\n",
        "for sample in samples:\n",
        "    if sample.endswith('.wav'):\n",
        "        print(sample)\n",
        "\n",
        "        tts1.tts_to_file(txt, speaker_wav=f\"../input/{sample}\", language=\"en\", file_path=f\"../output/{sample.replace('.wav', '')}_output.wav\")"
      ],
      "metadata": {
        "colab": {
          "base_uri": "https://localhost:8080/"
        },
        "id": "zm9EXwAZJZr2",
        "outputId": "8a6227fc-6296-42ff-c405-d3a08c5fb660"
      },
      "execution_count": null,
      "outputs": [
        {
          "output_type": "stream",
          "name": "stdout",
          "text": [
            "['robert downey jr.wav', 'mix-en.wav', 'fate.wav', 'morgan-free.wav', 'batman.wav', 'john connor batman.wav', 'jesse-pinkman-voicemail-breaking-bad-made-with-Voicemod.wav', 'walter.wav', 'leo.wav', 'jack sparrow.wav']\n",
            " > tts_models/multilingual/multi-dataset/xtts_v2 is already downloaded.\n",
            " > Using model: xtts\n",
            "robert downey jr.wav\n",
            " > Text splitted to sentences.\n",
            "['This makes sense, hey man can you hear the voice cloned.']\n",
            " > Processing time: 2.3784725666046143\n",
            " > Real-time factor: 0.4912082280611395\n",
            "mix-en.wav\n",
            " > Text splitted to sentences.\n",
            "['This makes sense, hey man can you hear the voice cloned.']\n",
            " > Processing time: 2.224961519241333\n",
            " > Real-time factor: 0.5307729087250237\n",
            "fate.wav\n",
            " > Text splitted to sentences.\n",
            "['This makes sense, hey man can you hear the voice cloned.']\n",
            " > Processing time: 1.9904537200927734\n",
            " > Real-time factor: 0.5056394530880836\n",
            "morgan-free.wav\n",
            " > Text splitted to sentences.\n",
            "['This makes sense, hey man can you hear the voice cloned.']\n",
            " > Processing time: 3.29557204246521\n",
            " > Real-time factor: 0.5631382791100269\n",
            "batman.wav\n",
            " > Text splitted to sentences.\n",
            "['This makes sense, hey man can you hear the voice cloned.']\n",
            " > Processing time: 4.1885085105896\n",
            " > Real-time factor: 0.5059416505527471\n",
            "john connor batman.wav\n",
            " > Text splitted to sentences.\n",
            "['This makes sense, hey man can you hear the voice cloned.']\n",
            " > Processing time: 4.670670747756958\n",
            " > Real-time factor: 0.5137495509819265\n",
            "jesse-pinkman-voicemail-breaking-bad-made-with-Voicemod.wav\n",
            " > Text splitted to sentences.\n",
            "['This makes sense, hey man can you hear the voice cloned.']\n",
            " > Processing time: 2.430209159851074\n",
            " > Real-time factor: 0.5067532150733487\n",
            "walter.wav\n",
            " > Text splitted to sentences.\n",
            "['This makes sense, hey man can you hear the voice cloned.']\n",
            " > Processing time: 3.6298911571502686\n",
            " > Real-time factor: 0.5099850903198812\n",
            "leo.wav\n",
            " > Text splitted to sentences.\n",
            "['This makes sense, hey man can you hear the voice cloned.']\n",
            " > Processing time: 2.173464059829712\n",
            " > Real-time factor: 0.4787126670054054\n",
            "jack sparrow.wav\n",
            " > Text splitted to sentences.\n",
            "['This makes sense, hey man can you hear the voice cloned.']\n",
            " > Processing time: 2.6913869380950928\n",
            " > Real-time factor: 0.4890003459541595\n"
          ]
        }
      ]
    },
    {
      "cell_type": "code",
      "source": [
        "txt=\"This makes sense, hey man can you hear the voice cloned. this is just testing for me, lets do it\"\n",
        "for sample in samples[:1]:\n",
        "    if sample.endswith('.wav'):\n",
        "        print(sample)\n",
        "\n",
        "        tts1.tts_to_file(txt, speaker_wav=f\"../input/{sample}\", language=\"en\", file_path=f\"../output/{sample.replace('.wav', '')}_output.wav\")"
      ],
      "metadata": {
        "colab": {
          "base_uri": "https://localhost:8080/"
        },
        "id": "ncAVyrojL6Ar",
        "outputId": "45418b13-ab9a-4fc3-83dc-bb95d7953ee5"
      },
      "execution_count": null,
      "outputs": [
        {
          "output_type": "stream",
          "name": "stdout",
          "text": [
            "robert downey jr.wav\n",
            " > Text splitted to sentences.\n",
            "['This makes sense, hey man can you hear the voice cloned.', 'this is just testing for me, lets do it']\n",
            " > Processing time: 4.640094757080078\n",
            " > Real-time factor: 0.4995024673567398\n"
          ]
        }
      ]
    },
    {
      "cell_type": "code",
      "source": [
        "tts1.models"
      ],
      "metadata": {
        "colab": {
          "base_uri": "https://localhost:8080/",
          "height": 144
        },
        "id": "nr1RcMp2QpH2",
        "outputId": "33c0e027-f635-41ce-e2c5-3c07049461fc"
      },
      "execution_count": null,
      "outputs": [
        {
          "output_type": "error",
          "ename": "NameError",
          "evalue": "name 'tts1' is not defined",
          "traceback": [
            "\u001b[0;31m---------------------------------------------------------------------------\u001b[0m",
            "\u001b[0;31mNameError\u001b[0m                                 Traceback (most recent call last)",
            "\u001b[0;32m<ipython-input-4-76bbb893c28e>\u001b[0m in \u001b[0;36m<cell line: 1>\u001b[0;34m()\u001b[0m\n\u001b[0;32m----> 1\u001b[0;31m \u001b[0mtts1\u001b[0m\u001b[0;34m.\u001b[0m\u001b[0mmodels\u001b[0m\u001b[0;34m\u001b[0m\u001b[0;34m\u001b[0m\u001b[0m\n\u001b[0m",
            "\u001b[0;31mNameError\u001b[0m: name 'tts1' is not defined"
          ]
        }
      ]
    },
    {
      "cell_type": "code",
      "source": [
        "!pwd"
      ],
      "metadata": {
        "colab": {
          "base_uri": "https://localhost:8080/"
        },
        "id": "MeoZQa6InLs2",
        "outputId": "ecddd629-80f8-474a-b866-c4723e41a0b6"
      },
      "execution_count": null,
      "outputs": [
        {
          "output_type": "stream",
          "name": "stdout",
          "text": [
            "/content/TTS\n"
          ]
        }
      ]
    },
    {
      "cell_type": "code",
      "source": [
        "!ls -l"
      ],
      "metadata": {
        "colab": {
          "base_uri": "https://localhost:8080/"
        },
        "id": "81KjXX6unbmr",
        "outputId": "18e0a792-c0f8-40dd-d8e4-ed5cc26b6091"
      },
      "execution_count": null,
      "outputs": [
        {
          "output_type": "stream",
          "name": "stdout",
          "text": [
            "total 152\n",
            "-rw-r--r--  1 root root   589 Jul  4 09:44 CITATION.cff\n",
            "-rw-r--r--  1 root root  5488 Jul  4 09:44 CODE_OF_CONDUCT.md\n",
            "-rw-r--r--  1 root root  4106 Jul  4 09:44 CODE_OWNERS.rst\n",
            "-rw-r--r--  1 root root  6231 Jul  4 09:44 CONTRIBUTING.md\n",
            "-rw-r--r--  1 root root   578 Jul  4 09:44 Dockerfile\n",
            "drwxr-xr-x  2 root root  4096 Jul  4 09:44 dockerfiles\n",
            "drwxr-xr-x  3 root root  4096 Jul  4 09:44 docs\n",
            "-rw-r--r--  1 root root  1892 Jul  4 09:44 hubconf.py\n",
            "drwxr-xr-x  2 root root  4096 Jul  4 09:44 images\n",
            "-rw-r--r--  1 root root 16726 Jul  4 09:44 LICENSE.txt\n",
            "-rw-r--r--  1 root root  2246 Jul  4 09:44 Makefile\n",
            "-rw-r--r--  1 root root   362 Jul  4 09:44 MANIFEST.in\n",
            "drwxr-xr-x  3 root root  4096 Jul  4 09:44 notebooks\n",
            "-rw-r--r--  1 root root   282 Jul  4 09:44 pyproject.toml\n",
            "-rw-r--r--  1 root root 17429 Jul  4 09:44 README.md\n",
            "drwxr-xr-x  9 root root  4096 Jul  4 09:44 recipes\n",
            "-rw-r--r--  1 root root    42 Jul  4 09:44 requirements.dev.txt\n",
            "-rw-r--r--  1 root root   154 Jul  4 09:44 requirements.ja.txt\n",
            "-rw-r--r--  1 root root    12 Jul  4 09:44 requirements.notebooks.txt\n",
            "-rw-r--r--  1 root root   986 Jul  4 09:44 requirements.txt\n",
            "-rwxr-xr-x  1 root root   177 Jul  4 09:44 run_bash_tests.sh\n",
            "drwxr-xr-x  2 root root  4096 Jul  4 09:44 scripts\n",
            "-rw-r--r--  1 root root   104 Jul  4 09:44 setup.cfg\n",
            "-rw-r--r--  1 root root  5356 Jul  4 09:44 setup.py\n",
            "drwxr-xr-x 15 root root  4096 Jul  4 09:44 tests\n",
            "drwxr-xr-x 12 root root  4096 Jul  4 09:48 TTS\n"
          ]
        }
      ]
    },
    {
      "cell_type": "code",
      "source": [],
      "metadata": {
        "colab": {
          "base_uri": "https://localhost:8080/"
        },
        "id": "lDy91o1coDKt",
        "outputId": "5cdae93d-24bb-40f0-df63-ddef58f90199"
      },
      "execution_count": null,
      "outputs": [
        {
          "output_type": "stream",
          "name": "stdout",
          "text": [
            "/bin/bash: line 1: cd: /home/user/.local/share/: No such file or directory\n"
          ]
        }
      ]
    },
    {
      "cell_type": "code",
      "source": [
        "!pip install deepspeed"
      ],
      "metadata": {
        "colab": {
          "base_uri": "https://localhost:8080/"
        },
        "id": "vkoyejzFFJlD",
        "outputId": "cb03a4c5-b7a1-4747-ec20-475531149bb9"
      },
      "execution_count": null,
      "outputs": [
        {
          "output_type": "stream",
          "name": "stdout",
          "text": [
            "Collecting deepspeed\n",
            "  Downloading deepspeed-0.14.4.tar.gz (1.3 MB)\n",
            "\u001b[2K     \u001b[90m━━━━━━━━━━━━━━━━━━━━━━━━━━━━━━━━━━━━━━━━\u001b[0m \u001b[32m1.3/1.3 MB\u001b[0m \u001b[31m9.5 MB/s\u001b[0m eta \u001b[36m0:00:00\u001b[0m\n",
            "\u001b[?25h  Preparing metadata (setup.py) ... \u001b[?25l\u001b[?25hdone\n",
            "Collecting hjson (from deepspeed)\n",
            "  Downloading hjson-3.1.0-py3-none-any.whl (54 kB)\n",
            "\u001b[2K     \u001b[90m━━━━━━━━━━━━━━━━━━━━━━━━━━━━━━━━━━━━━━━━\u001b[0m \u001b[32m54.0/54.0 kB\u001b[0m \u001b[31m8.6 MB/s\u001b[0m eta \u001b[36m0:00:00\u001b[0m\n",
            "\u001b[?25hCollecting ninja (from deepspeed)\n",
            "  Downloading ninja-1.11.1.1-py2.py3-none-manylinux1_x86_64.manylinux_2_5_x86_64.whl (307 kB)\n",
            "\u001b[2K     \u001b[90m━━━━━━━━━━━━━━━━━━━━━━━━━━━━━━━━━━━━━━━━\u001b[0m \u001b[32m307.2/307.2 kB\u001b[0m \u001b[31m15.2 MB/s\u001b[0m eta \u001b[36m0:00:00\u001b[0m\n",
            "\u001b[?25hRequirement already satisfied: numpy in /usr/local/lib/python3.10/dist-packages (from deepspeed) (1.22.0)\n",
            "Collecting nvidia-ml-py (from deepspeed)\n",
            "  Downloading nvidia_ml_py-12.555.43-py3-none-any.whl (39 kB)\n",
            "Requirement already satisfied: packaging>=20.0 in /usr/local/lib/python3.10/dist-packages (from deepspeed) (24.1)\n",
            "Requirement already satisfied: psutil in /usr/local/lib/python3.10/dist-packages (from deepspeed) (5.9.5)\n",
            "Requirement already satisfied: py-cpuinfo in /usr/local/lib/python3.10/dist-packages (from deepspeed) (9.0.0)\n",
            "Requirement already satisfied: pydantic in /usr/local/lib/python3.10/dist-packages (from deepspeed) (2.8.0)\n",
            "Requirement already satisfied: torch in /usr/local/lib/python3.10/dist-packages (from deepspeed) (2.3.0+cu121)\n",
            "Requirement already satisfied: tqdm in /usr/local/lib/python3.10/dist-packages (from deepspeed) (4.66.4)\n",
            "Requirement already satisfied: annotated-types>=0.4.0 in /usr/local/lib/python3.10/dist-packages (from pydantic->deepspeed) (0.7.0)\n",
            "Requirement already satisfied: pydantic-core==2.20.0 in /usr/local/lib/python3.10/dist-packages (from pydantic->deepspeed) (2.20.0)\n",
            "Requirement already satisfied: typing-extensions>=4.6.1 in /usr/local/lib/python3.10/dist-packages (from pydantic->deepspeed) (4.12.2)\n",
            "Requirement already satisfied: filelock in /usr/local/lib/python3.10/dist-packages (from torch->deepspeed) (3.15.4)\n",
            "Requirement already satisfied: sympy in /usr/local/lib/python3.10/dist-packages (from torch->deepspeed) (1.12.1)\n",
            "Requirement already satisfied: networkx in /usr/local/lib/python3.10/dist-packages (from torch->deepspeed) (2.8.8)\n",
            "Requirement already satisfied: jinja2 in /usr/local/lib/python3.10/dist-packages (from torch->deepspeed) (3.1.4)\n",
            "Requirement already satisfied: fsspec in /usr/local/lib/python3.10/dist-packages (from torch->deepspeed) (2023.6.0)\n",
            "Requirement already satisfied: nvidia-cuda-nvrtc-cu12==12.1.105 in /usr/local/lib/python3.10/dist-packages (from torch->deepspeed) (12.1.105)\n",
            "Requirement already satisfied: nvidia-cuda-runtime-cu12==12.1.105 in /usr/local/lib/python3.10/dist-packages (from torch->deepspeed) (12.1.105)\n",
            "Requirement already satisfied: nvidia-cuda-cupti-cu12==12.1.105 in /usr/local/lib/python3.10/dist-packages (from torch->deepspeed) (12.1.105)\n",
            "Requirement already satisfied: nvidia-cudnn-cu12==8.9.2.26 in /usr/local/lib/python3.10/dist-packages (from torch->deepspeed) (8.9.2.26)\n",
            "Requirement already satisfied: nvidia-cublas-cu12==12.1.3.1 in /usr/local/lib/python3.10/dist-packages (from torch->deepspeed) (12.1.3.1)\n",
            "Requirement already satisfied: nvidia-cufft-cu12==11.0.2.54 in /usr/local/lib/python3.10/dist-packages (from torch->deepspeed) (11.0.2.54)\n",
            "Requirement already satisfied: nvidia-curand-cu12==10.3.2.106 in /usr/local/lib/python3.10/dist-packages (from torch->deepspeed) (10.3.2.106)\n",
            "Requirement already satisfied: nvidia-cusolver-cu12==11.4.5.107 in /usr/local/lib/python3.10/dist-packages (from torch->deepspeed) (11.4.5.107)\n",
            "Requirement already satisfied: nvidia-cusparse-cu12==12.1.0.106 in /usr/local/lib/python3.10/dist-packages (from torch->deepspeed) (12.1.0.106)\n",
            "Requirement already satisfied: nvidia-nccl-cu12==2.20.5 in /usr/local/lib/python3.10/dist-packages (from torch->deepspeed) (2.20.5)\n",
            "Requirement already satisfied: nvidia-nvtx-cu12==12.1.105 in /usr/local/lib/python3.10/dist-packages (from torch->deepspeed) (12.1.105)\n",
            "Requirement already satisfied: triton==2.3.0 in /usr/local/lib/python3.10/dist-packages (from torch->deepspeed) (2.3.0)\n",
            "Requirement already satisfied: nvidia-nvjitlink-cu12 in /usr/local/lib/python3.10/dist-packages (from nvidia-cusolver-cu12==11.4.5.107->torch->deepspeed) (12.5.82)\n",
            "Requirement already satisfied: MarkupSafe>=2.0 in /usr/local/lib/python3.10/dist-packages (from jinja2->torch->deepspeed) (2.1.5)\n",
            "Requirement already satisfied: mpmath<1.4.0,>=1.1.0 in /usr/local/lib/python3.10/dist-packages (from sympy->torch->deepspeed) (1.3.0)\n",
            "Building wheels for collected packages: deepspeed\n",
            "  Building wheel for deepspeed (setup.py) ... \u001b[?25l\u001b[?25hdone\n",
            "  Created wheel for deepspeed: filename=deepspeed-0.14.4-py3-none-any.whl size=1445518 sha256=02e9a6a1064be97fa816628e0d79b5ede39bcd30c274869940f2610d4e4fe6ab\n",
            "  Stored in directory: /root/.cache/pip/wheels/8e/bc/a3/608e90bbb301848b78fd75d24d6d43ba3074de968fc0e397ac\n",
            "Successfully built deepspeed\n",
            "Installing collected packages: nvidia-ml-py, ninja, hjson, deepspeed\n",
            "Successfully installed deepspeed-0.14.4 hjson-3.1.0 ninja-1.11.1.1 nvidia-ml-py-12.555.43\n"
          ]
        }
      ]
    },
    {
      "cell_type": "code",
      "source": [
        "!pip install transformers==4.40.2"
      ],
      "metadata": {
        "colab": {
          "base_uri": "https://localhost:8080/",
          "height": 582
        },
        "id": "RWE-1HFMYQo7",
        "outputId": "7be233fa-9fd9-48b2-f729-cff14248afea"
      },
      "execution_count": null,
      "outputs": [
        {
          "output_type": "stream",
          "name": "stdout",
          "text": [
            "Collecting transformers==4.40.2\n",
            "  Downloading transformers-4.40.2-py3-none-any.whl (9.0 MB)\n",
            "\u001b[2K     \u001b[90m━━━━━━━━━━━━━━━━━━━━━━━━━━━━━━━━━━━━━━━━\u001b[0m \u001b[32m9.0/9.0 MB\u001b[0m \u001b[31m24.6 MB/s\u001b[0m eta \u001b[36m0:00:00\u001b[0m\n",
            "\u001b[?25hRequirement already satisfied: filelock in /usr/local/lib/python3.10/dist-packages (from transformers==4.40.2) (3.15.4)\n",
            "Requirement already satisfied: huggingface-hub<1.0,>=0.19.3 in /usr/local/lib/python3.10/dist-packages (from transformers==4.40.2) (0.23.4)\n",
            "Requirement already satisfied: numpy>=1.17 in /usr/local/lib/python3.10/dist-packages (from transformers==4.40.2) (1.22.0)\n",
            "Requirement already satisfied: packaging>=20.0 in /usr/local/lib/python3.10/dist-packages (from transformers==4.40.2) (24.1)\n",
            "Requirement already satisfied: pyyaml>=5.1 in /usr/local/lib/python3.10/dist-packages (from transformers==4.40.2) (6.0.1)\n",
            "Requirement already satisfied: regex!=2019.12.17 in /usr/local/lib/python3.10/dist-packages (from transformers==4.40.2) (2024.5.15)\n",
            "Requirement already satisfied: requests in /usr/local/lib/python3.10/dist-packages (from transformers==4.40.2) (2.31.0)\n",
            "Requirement already satisfied: tokenizers<0.20,>=0.19 in /usr/local/lib/python3.10/dist-packages (from transformers==4.40.2) (0.19.1)\n",
            "Requirement already satisfied: safetensors>=0.4.1 in /usr/local/lib/python3.10/dist-packages (from transformers==4.40.2) (0.4.3)\n",
            "Requirement already satisfied: tqdm>=4.27 in /usr/local/lib/python3.10/dist-packages (from transformers==4.40.2) (4.66.4)\n",
            "Requirement already satisfied: fsspec>=2023.5.0 in /usr/local/lib/python3.10/dist-packages (from huggingface-hub<1.0,>=0.19.3->transformers==4.40.2) (2023.6.0)\n",
            "Requirement already satisfied: typing-extensions>=3.7.4.3 in /usr/local/lib/python3.10/dist-packages (from huggingface-hub<1.0,>=0.19.3->transformers==4.40.2) (4.12.2)\n",
            "Requirement already satisfied: charset-normalizer<4,>=2 in /usr/local/lib/python3.10/dist-packages (from requests->transformers==4.40.2) (3.3.2)\n",
            "Requirement already satisfied: idna<4,>=2.5 in /usr/local/lib/python3.10/dist-packages (from requests->transformers==4.40.2) (3.7)\n",
            "Requirement already satisfied: urllib3<3,>=1.21.1 in /usr/local/lib/python3.10/dist-packages (from requests->transformers==4.40.2) (2.0.7)\n",
            "Requirement already satisfied: certifi>=2017.4.17 in /usr/local/lib/python3.10/dist-packages (from requests->transformers==4.40.2) (2024.6.2)\n",
            "Installing collected packages: transformers\n",
            "  Attempting uninstall: transformers\n",
            "    Found existing installation: transformers 4.41.2\n",
            "    Uninstalling transformers-4.41.2:\n",
            "      Successfully uninstalled transformers-4.41.2\n",
            "Successfully installed transformers-4.40.2\n"
          ]
        },
        {
          "output_type": "display_data",
          "data": {
            "application/vnd.colab-display-data+json": {
              "pip_warning": {
                "packages": [
                  "transformers"
                ]
              },
              "id": "bd650af75e1341c6aa11510555401acb"
            }
          },
          "metadata": {}
        }
      ]
    },
    {
      "cell_type": "code",
      "source": [
        "import os\n",
        "import time\n",
        "import torch\n",
        "import torchaudio\n",
        "from TTS.tts.configs.xtts_config import XttsConfig\n",
        "from TTS.tts.models.xtts import Xtts\n",
        "\n",
        "print(\"Loading model...\")\n",
        "config = XttsConfig()\n",
        "config.load_json(\"/content/TTS/TTS/config.json\")\n",
        "model = Xtts.init_from_config(config)\n",
        "model.load_checkpoint(config, checkpoint_dir=\"/content/TTS/recipes/ljspeech/xtts_v2/\", use_deepspeed=True, vocab_path=\"/content/TTS/recipes/ljspeech/vocab.json\")\n",
        "model.cuda()\n",
        "\n",
        "print(\"Computing speaker latents...\")\n",
        "# gpt_cond_latent, speaker_embedding = model.get_conditioning_latents(audio_path=[\"reference.wav\"])\n",
        "\n",
        "# print(\"Inference...\")\n",
        "# t0 = time.time()\n",
        "# chunks = model.inference_stream(\n",
        "#     \"It took me quite a long time to develop a voice and now that I have it I am not going to be silent.\",\n",
        "#     \"en\",\n",
        "#     gpt_cond_latent,\n",
        "#     speaker_embedding\n",
        "# )\n",
        "\n",
        "# wav_chuncks = []\n",
        "# for i, chunk in enumerate(chunks):\n",
        "#     if i == 0:\n",
        "#         print(f\"Time to first chunck: {time.time() - t0}\")\n",
        "#     print(f\"Received chunk {i} of audio length {chunk.shape[-1]}\")\n",
        "#     wav_chuncks.append(chunk)\n",
        "# wav = torch.cat(wav_chuncks, dim=0)\n",
        "# torchaudio.save(\"xtts_streaming.wav\", wav.squeeze().unsqueeze(0).cpu(), 24000)"
      ],
      "metadata": {
        "colab": {
          "base_uri": "https://localhost:8080/"
        },
        "id": "PSQ81DnrkQQx",
        "outputId": "081b6dd0-8475-4eb8-8e0a-4636a598b1e0"
      },
      "execution_count": 6,
      "outputs": [
        {
          "output_type": "stream",
          "name": "stdout",
          "text": [
            "Loading model...\n",
            "[2024-07-04 11:11:31,426] [INFO] [real_accelerator.py:203:get_accelerator] Setting ds_accelerator to cuda (auto detect)\n",
            "\u001b[93m [WARNING] \u001b[0m async_io requires the dev libaio .so object and headers but these were not found.\n",
            "\u001b[93m [WARNING] \u001b[0m async_io: please install the libaio-dev package with apt\n",
            "\u001b[93m [WARNING] \u001b[0m If libaio is already installed (perhaps from source), try setting the CFLAGS and LDFLAGS environment variables to where it can be found.\n",
            "\u001b[93m [WARNING] \u001b[0m Please specify the CUTLASS repo directory as environment variable $CUTLASS_PATH\n",
            "\u001b[93m [WARNING] \u001b[0m sparse_attn requires a torch version >= 1.5 and < 2.0 but detected 2.3\n",
            "\u001b[93m [WARNING] \u001b[0m using untested triton version (2.3.0), only 1.0.0 is known to be compatible\n",
            "[2024-07-04 11:11:32,457] [INFO] [logging.py:96:log_dist] [Rank -1] DeepSpeed info: version=0.14.4, git-hash=unknown, git-branch=unknown\n",
            "[2024-07-04 11:11:32,459] [WARNING] [config_utils.py:69:_process_deprecated_field] Config parameter replace_method is deprecated. This parameter is no longer needed, please remove from your call to DeepSpeed-inference\n",
            "[2024-07-04 11:11:32,461] [WARNING] [config_utils.py:69:_process_deprecated_field] Config parameter mp_size is deprecated use tensor_parallel.tp_size instead\n",
            "[2024-07-04 11:11:32,462] [INFO] [logging.py:96:log_dist] [Rank -1] quantize_bits = 8 mlp_extra_grouping = False, quantize_groups = 1\n"
          ]
        },
        {
          "output_type": "stream",
          "name": "stderr",
          "text": [
            "Using /root/.cache/torch_extensions/py310_cu121 as PyTorch extensions root...\n",
            "Detected CUDA files, patching ldflags\n",
            "Emitting ninja build file /root/.cache/torch_extensions/py310_cu121/transformer_inference/build.ninja...\n",
            "/usr/local/lib/python3.10/dist-packages/torch/utils/cpp_extension.py:1967: UserWarning: TORCH_CUDA_ARCH_LIST is not set, all archs for visible cards are included for compilation. \n",
            "If this is not desired, please set os.environ['TORCH_CUDA_ARCH_LIST'].\n",
            "  warnings.warn(\n",
            "Building extension module transformer_inference...\n",
            "Allowing ninja to set a default number of workers... (overridable by setting the environment variable MAX_JOBS=N)\n"
          ]
        },
        {
          "output_type": "stream",
          "name": "stdout",
          "text": [
            "Time to load transformer_inference op: 38.88623905181885 seconds\n",
            "[2024-07-04 11:12:11,545] [INFO] [logging.py:96:log_dist] [Rank -1] DeepSpeed-Inference config: {'layer_id': 0, 'hidden_size': 1024, 'intermediate_size': 4096, 'heads': 16, 'num_hidden_layers': -1, 'dtype': torch.float32, 'pre_layer_norm': True, 'norm_type': <NormType.LayerNorm: 1>, 'local_rank': -1, 'stochastic_mode': False, 'epsilon': 1e-05, 'mp_size': 1, 'scale_attention': True, 'triangular_masking': True, 'local_attention': False, 'window_size': 1, 'rotary_dim': -1, 'rotate_half': False, 'rotate_every_two': True, 'return_tuple': True, 'mlp_after_attn': True, 'mlp_act_func_type': <ActivationFuncType.GELU: 1>, 'specialized_mode': False, 'training_mp_size': 1, 'bigscience_bloom': False, 'max_out_tokens': 1024, 'min_out_tokens': 1, 'scale_attn_by_inverse_layer_idx': False, 'enable_qkv_quantization': False, 'use_mup': False, 'return_single_tuple': False, 'set_empty_params': False, 'transposed_mode': False, 'use_triton': False, 'triton_autotune': False, 'num_kv': -1, 'rope_theta': 10000, 'invert_mask': True}\n"
          ]
        },
        {
          "output_type": "stream",
          "name": "stderr",
          "text": [
            "Loading extension module transformer_inference...\n"
          ]
        },
        {
          "output_type": "stream",
          "name": "stdout",
          "text": [
            "Computing speaker latents...\n"
          ]
        }
      ]
    },
    {
      "cell_type": "code",
      "source": [
        "# !pip install transformers==4.40.2"
      ],
      "metadata": {
        "colab": {
          "base_uri": "https://localhost:8080/",
          "height": 582
        },
        "id": "XOb1sbgKHhJ8",
        "outputId": "8aff02c1-b54e-4183-ccf0-076b322dbe3d"
      },
      "execution_count": null,
      "outputs": [
        {
          "output_type": "stream",
          "name": "stdout",
          "text": [
            "Collecting transformers==4.40.2\n",
            "  Downloading transformers-4.40.2-py3-none-any.whl (9.0 MB)\n",
            "\u001b[2K     \u001b[90m━━━━━━━━━━━━━━━━━━━━━━━━━━━━━━━━━━━━━━━━\u001b[0m \u001b[32m9.0/9.0 MB\u001b[0m \u001b[31m22.5 MB/s\u001b[0m eta \u001b[36m0:00:00\u001b[0m\n",
            "\u001b[?25hRequirement already satisfied: filelock in /usr/local/lib/python3.10/dist-packages (from transformers==4.40.2) (3.15.4)\n",
            "Requirement already satisfied: huggingface-hub<1.0,>=0.19.3 in /usr/local/lib/python3.10/dist-packages (from transformers==4.40.2) (0.23.4)\n",
            "Requirement already satisfied: numpy>=1.17 in /usr/local/lib/python3.10/dist-packages (from transformers==4.40.2) (1.22.0)\n",
            "Requirement already satisfied: packaging>=20.0 in /usr/local/lib/python3.10/dist-packages (from transformers==4.40.2) (24.1)\n",
            "Requirement already satisfied: pyyaml>=5.1 in /usr/local/lib/python3.10/dist-packages (from transformers==4.40.2) (6.0.1)\n",
            "Requirement already satisfied: regex!=2019.12.17 in /usr/local/lib/python3.10/dist-packages (from transformers==4.40.2) (2024.5.15)\n",
            "Requirement already satisfied: requests in /usr/local/lib/python3.10/dist-packages (from transformers==4.40.2) (2.31.0)\n",
            "Requirement already satisfied: tokenizers<0.20,>=0.19 in /usr/local/lib/python3.10/dist-packages (from transformers==4.40.2) (0.19.1)\n",
            "Requirement already satisfied: safetensors>=0.4.1 in /usr/local/lib/python3.10/dist-packages (from transformers==4.40.2) (0.4.3)\n",
            "Requirement already satisfied: tqdm>=4.27 in /usr/local/lib/python3.10/dist-packages (from transformers==4.40.2) (4.66.4)\n",
            "Requirement already satisfied: fsspec>=2023.5.0 in /usr/local/lib/python3.10/dist-packages (from huggingface-hub<1.0,>=0.19.3->transformers==4.40.2) (2023.6.0)\n",
            "Requirement already satisfied: typing-extensions>=3.7.4.3 in /usr/local/lib/python3.10/dist-packages (from huggingface-hub<1.0,>=0.19.3->transformers==4.40.2) (4.12.2)\n",
            "Requirement already satisfied: charset-normalizer<4,>=2 in /usr/local/lib/python3.10/dist-packages (from requests->transformers==4.40.2) (3.3.2)\n",
            "Requirement already satisfied: idna<4,>=2.5 in /usr/local/lib/python3.10/dist-packages (from requests->transformers==4.40.2) (3.7)\n",
            "Requirement already satisfied: urllib3<3,>=1.21.1 in /usr/local/lib/python3.10/dist-packages (from requests->transformers==4.40.2) (2.0.7)\n",
            "Requirement already satisfied: certifi>=2017.4.17 in /usr/local/lib/python3.10/dist-packages (from requests->transformers==4.40.2) (2024.6.2)\n",
            "Installing collected packages: transformers\n",
            "  Attempting uninstall: transformers\n",
            "    Found existing installation: transformers 4.41.2\n",
            "    Uninstalling transformers-4.41.2:\n",
            "      Successfully uninstalled transformers-4.41.2\n",
            "Successfully installed transformers-4.40.2\n"
          ]
        },
        {
          "output_type": "display_data",
          "data": {
            "application/vnd.colab-display-data+json": {
              "pip_warning": {
                "packages": [
                  "transformers"
                ]
              },
              "id": "304896bb9886476287721de192b9ccc2"
            }
          },
          "metadata": {}
        }
      ]
    },
    {
      "cell_type": "code",
      "source": [
        "gpt_cond_latent, speaker_embedding = model.get_conditioning_latents(audio_path=[\"../input/batman.wav\"])\n",
        "# print(speaker_embedding)\n",
        "print(\"Inference...\")\n",
        "t0 = time.time()\n",
        "chunks = model.inference_stream(\n",
        "    \"It took me quite a long time to develop a voice and now that I have it I am not going to be silent.\",\n",
        "    \"en\",\n",
        "    gpt_cond_latent,\n",
        "    speaker_embedding\n",
        ")\n",
        "\n",
        "wav_chuncks = []\n",
        "for i, chunk in enumerate(chunks):\n",
        "    # print(\"test\")\n",
        "    # if i == 0:\n",
        "\n",
        "\n",
        "    print(f\"Time to first chunck: {round(time.time() - t0, 3)}\")\n",
        "\n",
        "    print(f\"Received chunk {i} of audio length {chunk.shape[-1]}\")\n",
        "    wav_chuncks.append(chunk)\n",
        "wav = torch.cat(wav_chuncks, dim=0)\n",
        "torchaudio.save(\"../output/xtts_streaming.wav\", wav.squeeze().unsqueeze(0).cpu(), 24000)"
      ],
      "metadata": {
        "colab": {
          "base_uri": "https://localhost:8080/"
        },
        "id": "V1t6rVOJnEhJ",
        "outputId": "ce26ae5c-0829-4ce6-9955-d78a0aed08bd"
      },
      "execution_count": 16,
      "outputs": [
        {
          "output_type": "stream",
          "name": "stdout",
          "text": [
            "Inference...\n",
            "Time to first chunck: 0.221\n",
            "Received chunk 0 of audio length 21248\n",
            "Time to first chunck: 0.435\n",
            "Received chunk 1 of audio length 22272\n",
            "Time to first chunck: 0.649\n",
            "Received chunk 2 of audio length 22272\n",
            "Time to first chunck: 0.868\n",
            "Received chunk 3 of audio length 22272\n",
            "Time to first chunck: 1.084\n",
            "Received chunk 4 of audio length 22272\n",
            "Time to first chunck: 1.298\n",
            "Received chunk 5 of audio length 22272\n",
            "Time to first chunck: 1.521\n",
            "Received chunk 6 of audio length 22272\n",
            "Time to first chunck: 1.74\n",
            "Received chunk 7 of audio length 22272\n",
            "Time to first chunck: 1.893\n",
            "Received chunk 8 of audio length 3328\n"
          ]
        }
      ]
    },
    {
      "cell_type": "code",
      "source": [
        "# for i in chunks:\n",
        "#   print(i)"
      ],
      "metadata": {
        "colab": {
          "base_uri": "https://localhost:8080/"
        },
        "id": "K18qt71bp9YR",
        "outputId": "c25a0f1c-aa47-4815-867f-9943e079d1f9"
      },
      "execution_count": 10,
      "outputs": [
        {
          "output_type": "stream",
          "name": "stderr",
          "text": [
            "/content/TTS/TTS/tts/layers/xtts/stream_generator.py:138: UserWarning: You have modified the pretrained model configuration to control generation. This is a deprecated strategy to control generation and will be removed soon, in a future version. Please use a generation configuration file (see https://huggingface.co/docs/transformers/main_classes/text_generation)\n",
            "  warnings.warn(\n"
          ]
        },
        {
          "output_type": "stream",
          "name": "stdout",
          "text": [
            "tensor([-0.0140, -0.0153, -0.0162,  ...,  0.0358,  0.0480,  0.0728],\n",
            "       device='cuda:0')\n",
            "tensor([ 0.0790,  0.1372,  0.1455,  ..., -0.0449, -0.0848, -0.1164],\n",
            "       device='cuda:0')\n"
          ]
        },
        {
          "output_type": "stream",
          "name": "stderr",
          "text": [
            "/usr/local/lib/python3.10/dist-packages/torch/nn/modules/conv.py:306: UserWarning: Plan failed with a cudnnException: CUDNN_BACKEND_EXECUTION_PLAN_DESCRIPTOR: cudnnFinalize Descriptor Failed cudnn_status: CUDNN_STATUS_NOT_SUPPORTED (Triggered internally at ../aten/src/ATen/native/cudnn/Conv_v8.cpp:919.)\n",
            "  return F.conv1d(input, weight, bias, self.stride,\n"
          ]
        },
        {
          "output_type": "stream",
          "name": "stdout",
          "text": [
            "tensor([-0.1794, -0.2417, -0.2622,  ..., -0.0023, -0.0057, -0.0050],\n",
            "       device='cuda:0')\n",
            "tensor([-0.0029,  0.0005,  0.0091,  ...,  0.3242,  0.3568,  0.3930],\n",
            "       device='cuda:0')\n",
            "tensor([ 0.3851,  0.3013,  0.2713,  ...,  0.0009, -0.0004, -0.0008],\n",
            "       device='cuda:0')\n",
            "tensor([-0.0022, -0.0035, -0.0038,  ..., -0.0637, -0.0576, -0.0575],\n",
            "       device='cuda:0')\n",
            "tensor([-5.4087e-02, -4.7764e-02, -4.6252e-02,  ..., -2.1798e-05,\n",
            "        -1.9942e-05, -1.5462e-05], device='cuda:0')\n"
          ]
        }
      ]
    },
    {
      "cell_type": "code",
      "source": [],
      "metadata": {
        "id": "Js2KR-ZpGyTV"
      },
      "execution_count": null,
      "outputs": []
    }
  ]
}